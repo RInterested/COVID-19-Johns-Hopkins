{
  "nbformat": 4,
  "nbformat_minor": 0,
  "metadata": {
    "colab": {
      "name": "ICU COVID PERCENTAGE and VACCINATION of the US STATES .ipynb",
      "provenance": [],
      "collapsed_sections": [],
      "authorship_tag": "ABX9TyPfyKBYVnbsymYHc7VG/13R"
    },
    "kernelspec": {
      "name": "ir",
      "display_name": "R"
    }
  },
  "cells": [
    {
      "cell_type": "markdown",
      "metadata": {
        "id": "P1qmxa1MIrle"
      },
      "source": [
        "Vaccination data is [here](https://covid.cdc.gov/covid-data-tracker/#vaccinations_vacc-total-admin-rate-total) and ICU data [here](https://coronavirus.jhu.edu/data/hospitalization-7-day-trend). The latter dataset is uploaded [here](https://github.com/RInterested/DATASETS/blob/gh-pages/COVID-19_Reported_Patient_Impact_and_Hospital_Capacity_by_State_Timeseries.csv). [This](https://stats.stackexchange.com/a/26779/67822) is what I intend to do."
      ]
    },
    {
      "cell_type": "code",
      "metadata": {
        "colab": {
          "base_uri": "https://localhost:8080/"
        },
        "id": "j2tflQtrWsym",
        "outputId": "aeaf135b-2c5c-45fe-ec59-ff79e1e2a7ea"
      },
      "source": [
        "install.packages('RCurl')\n",
        "require(RCurl)"
      ],
      "execution_count": 7,
      "outputs": [
        {
          "output_type": "stream",
          "name": "stderr",
          "text": [
            "Installing package into ‘/usr/local/lib/R/site-library’\n",
            "(as ‘lib’ is unspecified)\n",
            "\n"
          ]
        }
      ]
    },
    {
      "cell_type": "markdown",
      "metadata": {
        "id": "ATBUI_-Pgp21"
      },
      "source": [
        "Collecting the number of ICU dedicated to COVID confirmed or suspected cases per state as a measure of serious disease:"
      ]
    },
    {
      "cell_type": "code",
      "metadata": {
        "colab": {
          "base_uri": "https://localhost:8080/",
          "height": 280
        },
        "id": "mcO-bn8_7MN_",
        "outputId": "428afe38-8d16-420f-a3f3-841086cc5ee9"
      },
      "source": [
        "url <- \"https://raw.githubusercontent.com/RInterested/DATASETS/gh-pages/COVID19%20Reported%20Patient%20Impact%20and%20Hospital%20Capacity%20by%20State%20Timeseries\"\n",
        "dat <- read.csv(url)\n",
        "data <- dat[,c(1,2,27,39)]\n",
        "colnames(data) <- c('state','date','covid','ICU.beds')\n",
        "data[,2] <- as.Date(data$date)\n",
        "df <- data[!(rowSums(is.na(data))),]\n",
        "df$non.covid <- df[,4]-df[,3]\n",
        "df <- df[,c('state','date','covid','non.covid','ICU.beds')]\n",
        "df <- df[order(df[,'state']), ]\n",
        "head(df)"
      ],
      "execution_count": 11,
      "outputs": [
        {
          "output_type": "display_data",
          "data": {
            "text/plain": [
              "    state date       covid non.covid ICU.beds\n",
              "73  AK    2020-07-29 11     32        43     \n",
              "381 AK    2020-08-29  9     37        46     \n",
              "393 AK    2020-12-20 20    106       126     \n",
              "409 AK    2020-12-04 33     98       131     \n",
              "459 AK    2021-01-10 11    107       118     \n",
              "681 AK    2020-12-30 11    116       127     "
            ],
            "text/latex": "A data.frame: 6 × 5\n\\begin{tabular}{r|lllll}\n  & state & date & covid & non.covid & ICU.beds\\\\\n  & <chr> & <date> & <int> & <int> & <int>\\\\\n\\hline\n\t73 & AK & 2020-07-29 & 11 &  32 &  43\\\\\n\t381 & AK & 2020-08-29 &  9 &  37 &  46\\\\\n\t393 & AK & 2020-12-20 & 20 & 106 & 126\\\\\n\t409 & AK & 2020-12-04 & 33 &  98 & 131\\\\\n\t459 & AK & 2021-01-10 & 11 & 107 & 118\\\\\n\t681 & AK & 2020-12-30 & 11 & 116 & 127\\\\\n\\end{tabular}\n",
            "text/markdown": "\nA data.frame: 6 × 5\n\n| <!--/--> | state &lt;chr&gt; | date &lt;date&gt; | covid &lt;int&gt; | non.covid &lt;int&gt; | ICU.beds &lt;int&gt; |\n|---|---|---|---|---|---|\n| 73 | AK | 2020-07-29 | 11 |  32 |  43 |\n| 381 | AK | 2020-08-29 |  9 |  37 |  46 |\n| 393 | AK | 2020-12-20 | 20 | 106 | 126 |\n| 409 | AK | 2020-12-04 | 33 |  98 | 131 |\n| 459 | AK | 2021-01-10 | 11 | 107 | 118 |\n| 681 | AK | 2020-12-30 | 11 | 116 | 127 |\n\n",
            "text/html": [
              "<table class=\"dataframe\">\n",
              "<caption>A data.frame: 6 × 5</caption>\n",
              "<thead>\n",
              "\t<tr><th></th><th scope=col>state</th><th scope=col>date</th><th scope=col>covid</th><th scope=col>non.covid</th><th scope=col>ICU.beds</th></tr>\n",
              "\t<tr><th></th><th scope=col>&lt;chr&gt;</th><th scope=col>&lt;date&gt;</th><th scope=col>&lt;int&gt;</th><th scope=col>&lt;int&gt;</th><th scope=col>&lt;int&gt;</th></tr>\n",
              "</thead>\n",
              "<tbody>\n",
              "\t<tr><th scope=row>73</th><td>AK</td><td>2020-07-29</td><td>11</td><td> 32</td><td> 43</td></tr>\n",
              "\t<tr><th scope=row>381</th><td>AK</td><td>2020-08-29</td><td> 9</td><td> 37</td><td> 46</td></tr>\n",
              "\t<tr><th scope=row>393</th><td>AK</td><td>2020-12-20</td><td>20</td><td>106</td><td>126</td></tr>\n",
              "\t<tr><th scope=row>409</th><td>AK</td><td>2020-12-04</td><td>33</td><td> 98</td><td>131</td></tr>\n",
              "\t<tr><th scope=row>459</th><td>AK</td><td>2021-01-10</td><td>11</td><td>107</td><td>118</td></tr>\n",
              "\t<tr><th scope=row>681</th><td>AK</td><td>2020-12-30</td><td>11</td><td>116</td><td>127</td></tr>\n",
              "</tbody>\n",
              "</table>\n"
            ]
          },
          "metadata": {}
        }
      ]
    },
    {
      "cell_type": "markdown",
      "metadata": {
        "id": "_WR7uhWBip2l"
      },
      "source": [
        "Now the data in the last 30 days of delta wave in the US will be average state-wise. For example:"
      ]
    },
    {
      "cell_type": "code",
      "metadata": {
        "colab": {
          "base_uri": "https://localhost:8080/",
          "height": 33
        },
        "id": "1hbz-2B-io5s",
        "outputId": "1422a4ad-6789-485e-bf38-1d632433a83f"
      },
      "source": [
        "# Example Alabama:\n",
        "n <- 30 # number of days to average\n",
        "AL <- df[df$state==\"AL\",]\n",
        "AL <- AL[order(as.Date(AL$date,format = \"%d/%m/%Y\")),]\n",
        "row.names(AL) <- 1:nrow(AL)\n",
        "round(colMeans(tail(AL[,c(3,4,5)],n)))"
      ],
      "execution_count": 12,
      "outputs": [
        {
          "output_type": "display_data",
          "data": {
            "text/plain": [
              "    covid non.covid  ICU.beds \n",
              "      836       745      1581 "
            ],
            "text/latex": "\\begin{description*}\n\\item[covid] 836\n\\item[non.covid] 745\n\\item[ICU.beds] 1581\n\\end{description*}\n",
            "text/markdown": "covid\n:   836non.covid\n:   745ICU.beds\n:   1581\n\n",
            "text/html": [
              "<style>\n",
              ".dl-inline {width: auto; margin:0; padding: 0}\n",
              ".dl-inline>dt, .dl-inline>dd {float: none; width: auto; display: inline-block}\n",
              ".dl-inline>dt::after {content: \":\\0020\"; padding-right: .5ex}\n",
              ".dl-inline>dt:not(:first-of-type) {padding-left: .5ex}\n",
              "</style><dl class=dl-inline><dt>covid</dt><dd>836</dd><dt>non.covid</dt><dd>745</dd><dt>ICU.beds</dt><dd>1581</dd></dl>\n"
            ]
          },
          "metadata": {}
        }
      ]
    },
    {
      "cell_type": "markdown",
      "metadata": {
        "id": "pLPs_7ErjH4K"
      },
      "source": [
        "Performing the same averaging for all states:"
      ]
    },
    {
      "cell_type": "code",
      "metadata": {
        "colab": {
          "base_uri": "https://localhost:8080/",
          "height": 280
        },
        "id": "OLF4t9FBjNi2",
        "outputId": "905b4176-8c0f-41b0-a0f0-5707ad99f66e"
      },
      "source": [
        "states <- unique(df[,1])\n",
        "m <- matrix(0,length(states),3)\n",
        "\n",
        "for(i in 1:length(states)){\n",
        "  temp <- df[df$state==states[i],]\n",
        "  temp <- temp[order(as.Date(temp$date,format = \"%d/%m/%Y\")),]\n",
        "  m[i,1:3] <- round(colMeans(tail(temp[,c(3,4,5)],n)))\n",
        "}\n",
        "icu <- cbind.data.frame(states,m)\n",
        "icu <- icu[order(icu[,'states']), ]\n",
        "names(icu) <- c('states','covid','non.covid','ICU.beds')\n",
        "icu$frac <- round(icu$covid / icu$ICU.beds, 2)\n",
        "head(icu)"
      ],
      "execution_count": 17,
      "outputs": [
        {
          "output_type": "display_data",
          "data": {
            "text/plain": [
              "  states covid non.covid ICU.beds frac\n",
              "1 AK       35    89       123     0.28\n",
              "2 AL      836   745      1581     0.53\n",
              "3 AR      457   547      1004     0.46\n",
              "4 AS        0     7         7     0.00\n",
              "5 AZ      478  1689      2167     0.22\n",
              "6 CA     1935  5304      7240     0.27"
            ],
            "text/latex": "A data.frame: 6 × 5\n\\begin{tabular}{r|lllll}\n  & states & covid & non.covid & ICU.beds & frac\\\\\n  & <chr> & <dbl> & <dbl> & <dbl> & <dbl>\\\\\n\\hline\n\t1 & AK &   35 &   89 &  123 & 0.28\\\\\n\t2 & AL &  836 &  745 & 1581 & 0.53\\\\\n\t3 & AR &  457 &  547 & 1004 & 0.46\\\\\n\t4 & AS &    0 &    7 &    7 & 0.00\\\\\n\t5 & AZ &  478 & 1689 & 2167 & 0.22\\\\\n\t6 & CA & 1935 & 5304 & 7240 & 0.27\\\\\n\\end{tabular}\n",
            "text/markdown": "\nA data.frame: 6 × 5\n\n| <!--/--> | states &lt;chr&gt; | covid &lt;dbl&gt; | non.covid &lt;dbl&gt; | ICU.beds &lt;dbl&gt; | frac &lt;dbl&gt; |\n|---|---|---|---|---|---|\n| 1 | AK |   35 |   89 |  123 | 0.28 |\n| 2 | AL |  836 |  745 | 1581 | 0.53 |\n| 3 | AR |  457 |  547 | 1004 | 0.46 |\n| 4 | AS |    0 |    7 |    7 | 0.00 |\n| 5 | AZ |  478 | 1689 | 2167 | 0.22 |\n| 6 | CA | 1935 | 5304 | 7240 | 0.27 |\n\n",
            "text/html": [
              "<table class=\"dataframe\">\n",
              "<caption>A data.frame: 6 × 5</caption>\n",
              "<thead>\n",
              "\t<tr><th></th><th scope=col>states</th><th scope=col>covid</th><th scope=col>non.covid</th><th scope=col>ICU.beds</th><th scope=col>frac</th></tr>\n",
              "\t<tr><th></th><th scope=col>&lt;chr&gt;</th><th scope=col>&lt;dbl&gt;</th><th scope=col>&lt;dbl&gt;</th><th scope=col>&lt;dbl&gt;</th><th scope=col>&lt;dbl&gt;</th></tr>\n",
              "</thead>\n",
              "<tbody>\n",
              "\t<tr><th scope=row>1</th><td>AK</td><td>  35</td><td>  89</td><td> 123</td><td>0.28</td></tr>\n",
              "\t<tr><th scope=row>2</th><td>AL</td><td> 836</td><td> 745</td><td>1581</td><td>0.53</td></tr>\n",
              "\t<tr><th scope=row>3</th><td>AR</td><td> 457</td><td> 547</td><td>1004</td><td>0.46</td></tr>\n",
              "\t<tr><th scope=row>4</th><td>AS</td><td>   0</td><td>   7</td><td>   7</td><td>0.00</td></tr>\n",
              "\t<tr><th scope=row>5</th><td>AZ</td><td> 478</td><td>1689</td><td>2167</td><td>0.22</td></tr>\n",
              "\t<tr><th scope=row>6</th><td>CA</td><td>1935</td><td>5304</td><td>7240</td><td>0.27</td></tr>\n",
              "</tbody>\n",
              "</table>\n"
            ]
          },
          "metadata": {}
        }
      ]
    },
    {
      "cell_type": "markdown",
      "metadata": {
        "id": "o02rV5yhkC8O"
      },
      "source": [
        "Getting the vaccination data per state and tidying up the dataset:"
      ]
    },
    {
      "cell_type": "code",
      "metadata": {
        "colab": {
          "base_uri": "https://localhost:8080/",
          "height": 451
        },
        "id": "CKDrLa2UjnUp",
        "outputId": "4b7c1cf6-fb18-4639-fa24-11a977428c71"
      },
      "source": [
        "y = url(\"https://raw.githubusercontent.com/RInterested/DATASETS/gh-pages/covid19_vaccinations_in_the_united_states.csv\")\n",
        "vaccines <- read.csv(y)\n",
        "vaccines[1:3,1:3]\n",
        "vac <- vaccines[,c(1,3)]\n",
        "names(vac) <- c('states','doses.per.100k')\n",
        "\n",
        "s = url(\"https://raw.githubusercontent.com/RInterested/DATASETS/gh-pages/states.csv\")\n",
        "state <- read.csv(s)\n",
        "\n",
        "vac <- vac[vac[,1] %in% state[,1],]\n",
        "\n",
        "for(i in 1:nrow(vac)){\n",
        "    vac[i,1] <- state[which(state[,1]==vac[i,1]),2]\n",
        "}\n",
        "\n",
        "vac[,2] <- as.numeric(vac[,2])\n",
        "head(vac)"
      ],
      "execution_count": 19,
      "outputs": [
        {
          "output_type": "display_data",
          "data": {
            "text/plain": [
              "  State.Territory.Federal.Entity Total.Doses.Delivered Doses.Delivered.per.100K\n",
              "1 Alaska                          988195               135083                  \n",
              "2 Alabama                        6388850               130300                  \n",
              "3 Arkansas                       3851970               127641                  "
            ],
            "text/latex": "A data.frame: 3 × 3\n\\begin{tabular}{r|lll}\n  & State.Territory.Federal.Entity & Total.Doses.Delivered & Doses.Delivered.per.100K\\\\\n  & <chr> & <int> & <chr>\\\\\n\\hline\n\t1 & Alaska   &  988195 & 135083\\\\\n\t2 & Alabama  & 6388850 & 130300\\\\\n\t3 & Arkansas & 3851970 & 127641\\\\\n\\end{tabular}\n",
            "text/markdown": "\nA data.frame: 3 × 3\n\n| <!--/--> | State.Territory.Federal.Entity &lt;chr&gt; | Total.Doses.Delivered &lt;int&gt; | Doses.Delivered.per.100K &lt;chr&gt; |\n|---|---|---|---|\n| 1 | Alaska   |  988195 | 135083 |\n| 2 | Alabama  | 6388850 | 130300 |\n| 3 | Arkansas | 3851970 | 127641 |\n\n",
            "text/html": [
              "<table class=\"dataframe\">\n",
              "<caption>A data.frame: 3 × 3</caption>\n",
              "<thead>\n",
              "\t<tr><th></th><th scope=col>State.Territory.Federal.Entity</th><th scope=col>Total.Doses.Delivered</th><th scope=col>Doses.Delivered.per.100K</th></tr>\n",
              "\t<tr><th></th><th scope=col>&lt;chr&gt;</th><th scope=col>&lt;int&gt;</th><th scope=col>&lt;chr&gt;</th></tr>\n",
              "</thead>\n",
              "<tbody>\n",
              "\t<tr><th scope=row>1</th><td>Alaska  </td><td> 988195</td><td>135083</td></tr>\n",
              "\t<tr><th scope=row>2</th><td>Alabama </td><td>6388850</td><td>130300</td></tr>\n",
              "\t<tr><th scope=row>3</th><td>Arkansas</td><td>3851970</td><td>127641</td></tr>\n",
              "</tbody>\n",
              "</table>\n"
            ]
          },
          "metadata": {}
        },
        {
          "output_type": "display_data",
          "data": {
            "text/plain": [
              "  states doses.per.100k\n",
              "1 AK     135083        \n",
              "3 AR     127641        \n",
              "4 AS     111404        \n",
              "5 AZ     131204        \n",
              "7 CA     142990        \n",
              "8 CO     137594        "
            ],
            "text/latex": "A data.frame: 6 × 2\n\\begin{tabular}{r|ll}\n  & states & doses.per.100k\\\\\n  & <chr> & <dbl>\\\\\n\\hline\n\t1 & AK & 135083\\\\\n\t3 & AR & 127641\\\\\n\t4 & AS & 111404\\\\\n\t5 & AZ & 131204\\\\\n\t7 & CA & 142990\\\\\n\t8 & CO & 137594\\\\\n\\end{tabular}\n",
            "text/markdown": "\nA data.frame: 6 × 2\n\n| <!--/--> | states &lt;chr&gt; | doses.per.100k &lt;dbl&gt; |\n|---|---|---|\n| 1 | AK | 135083 |\n| 3 | AR | 127641 |\n| 4 | AS | 111404 |\n| 5 | AZ | 131204 |\n| 7 | CA | 142990 |\n| 8 | CO | 137594 |\n\n",
            "text/html": [
              "<table class=\"dataframe\">\n",
              "<caption>A data.frame: 6 × 2</caption>\n",
              "<thead>\n",
              "\t<tr><th></th><th scope=col>states</th><th scope=col>doses.per.100k</th></tr>\n",
              "\t<tr><th></th><th scope=col>&lt;chr&gt;</th><th scope=col>&lt;dbl&gt;</th></tr>\n",
              "</thead>\n",
              "<tbody>\n",
              "\t<tr><th scope=row>1</th><td>AK</td><td>135083</td></tr>\n",
              "\t<tr><th scope=row>3</th><td>AR</td><td>127641</td></tr>\n",
              "\t<tr><th scope=row>4</th><td>AS</td><td>111404</td></tr>\n",
              "\t<tr><th scope=row>5</th><td>AZ</td><td>131204</td></tr>\n",
              "\t<tr><th scope=row>7</th><td>CA</td><td>142990</td></tr>\n",
              "\t<tr><th scope=row>8</th><td>CO</td><td>137594</td></tr>\n",
              "</tbody>\n",
              "</table>\n"
            ]
          },
          "metadata": {}
        }
      ]
    },
    {
      "cell_type": "markdown",
      "metadata": {
        "id": "nHkWe2DBkiIO"
      },
      "source": [
        "Merging ICU occupancy and vaccination datasets:"
      ]
    },
    {
      "cell_type": "code",
      "metadata": {
        "colab": {
          "base_uri": "https://localhost:8080/",
          "height": 280
        },
        "id": "u0wRBsZGklya",
        "outputId": "cfae1c77-4f28-4df9-f31b-c746a655bc17"
      },
      "source": [
        "d <- merge(icu,vac, by=\"states\")\n",
        "head(d)"
      ],
      "execution_count": 20,
      "outputs": [
        {
          "output_type": "display_data",
          "data": {
            "text/plain": [
              "  states covid non.covid ICU.beds frac doses.per.100k\n",
              "1 AK       35    89       123     0.28 135083        \n",
              "2 AR      457   547      1004     0.46 127641        \n",
              "3 AS        0     7         7     0.00 111404        \n",
              "4 AZ      478  1689      2167     0.22 131204        \n",
              "5 CA     1935  5304      7240     0.27 142990        \n",
              "6 CO      273  1079      1353     0.20 137594        "
            ],
            "text/latex": "A data.frame: 6 × 6\n\\begin{tabular}{r|llllll}\n  & states & covid & non.covid & ICU.beds & frac & doses.per.100k\\\\\n  & <chr> & <dbl> & <dbl> & <dbl> & <dbl> & <dbl>\\\\\n\\hline\n\t1 & AK &   35 &   89 &  123 & 0.28 & 135083\\\\\n\t2 & AR &  457 &  547 & 1004 & 0.46 & 127641\\\\\n\t3 & AS &    0 &    7 &    7 & 0.00 & 111404\\\\\n\t4 & AZ &  478 & 1689 & 2167 & 0.22 & 131204\\\\\n\t5 & CA & 1935 & 5304 & 7240 & 0.27 & 142990\\\\\n\t6 & CO &  273 & 1079 & 1353 & 0.20 & 137594\\\\\n\\end{tabular}\n",
            "text/markdown": "\nA data.frame: 6 × 6\n\n| <!--/--> | states &lt;chr&gt; | covid &lt;dbl&gt; | non.covid &lt;dbl&gt; | ICU.beds &lt;dbl&gt; | frac &lt;dbl&gt; | doses.per.100k &lt;dbl&gt; |\n|---|---|---|---|---|---|---|\n| 1 | AK |   35 |   89 |  123 | 0.28 | 135083 |\n| 2 | AR |  457 |  547 | 1004 | 0.46 | 127641 |\n| 3 | AS |    0 |    7 |    7 | 0.00 | 111404 |\n| 4 | AZ |  478 | 1689 | 2167 | 0.22 | 131204 |\n| 5 | CA | 1935 | 5304 | 7240 | 0.27 | 142990 |\n| 6 | CO |  273 | 1079 | 1353 | 0.20 | 137594 |\n\n",
            "text/html": [
              "<table class=\"dataframe\">\n",
              "<caption>A data.frame: 6 × 6</caption>\n",
              "<thead>\n",
              "\t<tr><th></th><th scope=col>states</th><th scope=col>covid</th><th scope=col>non.covid</th><th scope=col>ICU.beds</th><th scope=col>frac</th><th scope=col>doses.per.100k</th></tr>\n",
              "\t<tr><th></th><th scope=col>&lt;chr&gt;</th><th scope=col>&lt;dbl&gt;</th><th scope=col>&lt;dbl&gt;</th><th scope=col>&lt;dbl&gt;</th><th scope=col>&lt;dbl&gt;</th><th scope=col>&lt;dbl&gt;</th></tr>\n",
              "</thead>\n",
              "<tbody>\n",
              "\t<tr><th scope=row>1</th><td>AK</td><td>  35</td><td>  89</td><td> 123</td><td>0.28</td><td>135083</td></tr>\n",
              "\t<tr><th scope=row>2</th><td>AR</td><td> 457</td><td> 547</td><td>1004</td><td>0.46</td><td>127641</td></tr>\n",
              "\t<tr><th scope=row>3</th><td>AS</td><td>   0</td><td>   7</td><td>   7</td><td>0.00</td><td>111404</td></tr>\n",
              "\t<tr><th scope=row>4</th><td>AZ</td><td> 478</td><td>1689</td><td>2167</td><td>0.22</td><td>131204</td></tr>\n",
              "\t<tr><th scope=row>5</th><td>CA</td><td>1935</td><td>5304</td><td>7240</td><td>0.27</td><td>142990</td></tr>\n",
              "\t<tr><th scope=row>6</th><td>CO</td><td> 273</td><td>1079</td><td>1353</td><td>0.20</td><td>137594</td></tr>\n",
              "</tbody>\n",
              "</table>\n"
            ]
          },
          "metadata": {}
        }
      ]
    },
    {
      "cell_type": "markdown",
      "metadata": {
        "id": "tA3dAJBwks_5"
      },
      "source": [
        "Checking whether the logistic regression of covid cases in the ICU regressed over the vaccination status of the population in different states is significant:"
      ]
    },
    {
      "cell_type": "code",
      "metadata": {
        "colab": {
          "base_uri": "https://localhost:8080/",
          "height": 425
        },
        "id": "7zEszHNMksV4",
        "outputId": "b49da951-399c-4240-959b-c1bf877f58df"
      },
      "source": [
        "fit <- glm(cbind(d$covid,d$non.covid) ~ scale(d$doses.per.100k), \n",
        "           family='binomial')\n",
        "\n",
        "summary(fit)"
      ],
      "execution_count": 24,
      "outputs": [
        {
          "output_type": "display_data",
          "data": {
            "text/plain": [
              "\n",
              "Call:\n",
              "glm(formula = cbind(d$covid, d$non.covid) ~ scale(d$doses.per.100k), \n",
              "    family = \"binomial\")\n",
              "\n",
              "Deviance Residuals: \n",
              "    Min       1Q   Median       3Q      Max  \n",
              "-27.566   -7.525   -2.758    2.623   39.715  \n",
              "\n",
              "Coefficients:\n",
              "                         Estimate Std. Error z value Pr(>|z|)    \n",
              "(Intercept)             -0.871522   0.007831 -111.30   <2e-16 ***\n",
              "scale(d$doses.per.100k) -0.193593   0.010832  -17.87   <2e-16 ***\n",
              "---\n",
              "Signif. codes:  0 ‘***’ 0.001 ‘**’ 0.01 ‘*’ 0.05 ‘.’ 0.1 ‘ ’ 1\n",
              "\n",
              "(Dispersion parameter for binomial family taken to be 1)\n",
              "\n",
              "    Null deviance: 8346.2  on 51  degrees of freedom\n",
              "Residual deviance: 8024.5  on 50  degrees of freedom\n",
              "AIC: 8375.2\n",
              "\n",
              "Number of Fisher Scoring iterations: 4\n"
            ]
          },
          "metadata": {}
        }
      ]
    },
    {
      "cell_type": "markdown",
      "metadata": {
        "id": "yjeSkDMOrFpS"
      },
      "source": [
        "The scaling and centering is meant to estimate the effect size:"
      ]
    },
    {
      "cell_type": "code",
      "metadata": {
        "colab": {
          "base_uri": "https://localhost:8080/",
          "height": 162
        },
        "id": "xjtBigRJrTuX",
        "outputId": "5e20dc3f-6b71-4148-abf0-8b2e984d1df0"
      },
      "source": [
        "exp(cbind(OR = coef(fit), confint(fit)))"
      ],
      "execution_count": 25,
      "outputs": [
        {
          "output_type": "stream",
          "name": "stderr",
          "text": [
            "Waiting for profiling to be done...\n",
            "\n"
          ]
        },
        {
          "output_type": "display_data",
          "data": {
            "text/plain": [
              "                        OR        2.5 %     97.5 %   \n",
              "(Intercept)             0.4183142 0.4119365 0.4247772\n",
              "scale(d$doses.per.100k) 0.8239930 0.8066747 0.8416660"
            ],
            "text/latex": "A matrix: 2 × 3 of type dbl\n\\begin{tabular}{r|lll}\n  & OR & 2.5 \\% & 97.5 \\%\\\\\n\\hline\n\t(Intercept) & 0.4183142 & 0.4119365 & 0.4247772\\\\\n\tscale(d\\$doses.per.100k) & 0.8239930 & 0.8066747 & 0.8416660\\\\\n\\end{tabular}\n",
            "text/markdown": "\nA matrix: 2 × 3 of type dbl\n\n| <!--/--> | OR | 2.5 % | 97.5 % |\n|---|---|---|---|\n| (Intercept) | 0.4183142 | 0.4119365 | 0.4247772 |\n| scale(d$doses.per.100k) | 0.8239930 | 0.8066747 | 0.8416660 |\n\n",
            "text/html": [
              "<table class=\"dataframe\">\n",
              "<caption>A matrix: 2 × 3 of type dbl</caption>\n",
              "<thead>\n",
              "\t<tr><th></th><th scope=col>OR</th><th scope=col>2.5 %</th><th scope=col>97.5 %</th></tr>\n",
              "</thead>\n",
              "<tbody>\n",
              "\t<tr><th scope=row>(Intercept)</th><td>0.4183142</td><td>0.4119365</td><td>0.4247772</td></tr>\n",
              "\t<tr><th scope=row>scale(d$doses.per.100k)</th><td>0.8239930</td><td>0.8066747</td><td>0.8416660</td></tr>\n",
              "</tbody>\n",
              "</table>\n"
            ]
          },
          "metadata": {}
        }
      ]
    },
    {
      "cell_type": "markdown",
      "metadata": {
        "id": "LoCmkn1zr9Yv"
      },
      "source": [
        "So a one-unit increase in the vaccination variable, decreases 20% the odds of being in the ICU."
      ]
    }
  ]
}