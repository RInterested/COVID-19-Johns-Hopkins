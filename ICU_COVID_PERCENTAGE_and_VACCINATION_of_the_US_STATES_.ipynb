{
  "nbformat": 4,
  "nbformat_minor": 0,
  "metadata": {
    "colab": {
      "name": "ICU COVID PERCENTAGE and VACCINATION of the US STATES .ipynb",
      "provenance": [],
      "collapsed_sections": [],
      "authorship_tag": "ABX9TyOWqINsqcSYKgIscGUGfphP"
    },
    "kernelspec": {
      "name": "ir",
      "display_name": "R"
    }
  },
  "cells": [
    {
      "cell_type": "markdown",
      "metadata": {
        "id": "P1qmxa1MIrle"
      },
      "source": [
        "Vaccination data is [here](https://covid.cdc.gov/covid-data-tracker/#vaccinations_vacc-total-admin-rate-total) and ICU data [here](https://coronavirus.jhu.edu/data/hospitalization-7-day-trend). The latter dataset is uploaded [here](https://github.com/RInterested/DATASETS/blob/gh-pages/COVID-19_Reported_Patient_Impact_and_Hospital_Capacity_by_State_Timeseries.csv). [This](https://stats.stackexchange.com/a/26779/67822) is what I intend to do."
      ]
    },
    {
      "cell_type": "code",
      "metadata": {
        "colab": {
          "base_uri": "https://localhost:8080/"
        },
        "id": "j2tflQtrWsym",
        "outputId": "dbe4a10e-9b49-43a7-8805-6cd1da9b0068"
      },
      "source": [
        "install.packages('RCurl')\n",
        "require(RCurl)"
      ],
      "execution_count": 1,
      "outputs": [
        {
          "output_type": "stream",
          "name": "stderr",
          "text": [
            "Installing package into ‘/usr/local/lib/R/site-library’\n",
            "(as ‘lib’ is unspecified)\n",
            "\n",
            "also installing the dependency ‘bitops’\n",
            "\n",
            "\n",
            "Loading required package: RCurl\n",
            "\n"
          ]
        }
      ]
    },
    {
      "cell_type": "markdown",
      "metadata": {
        "id": "ATBUI_-Pgp21"
      },
      "source": [
        "Collecting the number of ICU and IP beds dedicated to COVID confirmed or suspected cases per state as a measure of serious disease:"
      ]
    },
    {
      "cell_type": "code",
      "metadata": {
        "colab": {
          "base_uri": "https://localhost:8080/",
          "height": 280
        },
        "id": "mcO-bn8_7MN_",
        "outputId": "9b4e8323-9bd9-4e3f-e559-8c4f1ecc32b6"
      },
      "source": [
        "url <- \"https://raw.githubusercontent.com/RInterested/DATASETS/gh-pages/COVID19%20Reported%20Patient%20Impact%20and%20Hospital%20Capacity%20by%20State%20Timeseries\"\n",
        "dat <- read.csv(url)\n",
        "# 13: \"\"inpatient_beds_used\"  \"\n",
        "# 27: \"staffed_icu_adult_patients_confirmed_and_suspected_covid\"\n",
        "# 31:\"total_adult_patients_hospitalized_confirmed_and_suspected_covid\" \n",
        "# 39 \"\"total_staffed_adult_icu_beds\"   \n",
        "data <- dat[,c(1,2,27,39,31,13)]\n",
        "colnames(data) <- c('state','date','ICUpos','ICUb','IPpos','IPb')\n",
        "data[,2] <- as.Date(data$date)\n",
        "df <- data[!(rowSums(is.na(data))),]\n",
        "df$ICUneg <- df[,4]-df[,3]\n",
        "df$IPneg  <- df[,6]-df[,5]\n",
        "df <- df[,c('state','date','ICUpos','ICUneg','ICUb','IPpos','IPneg','IPb')]\n",
        "df <- df[order(df[,'state']), ]\n",
        "\n",
        "# Adding IP's and ICU:\n",
        "df$TOTpos <- df$ICUpos + df$IPpos\n",
        "df$TOTneg <- df$ICUneg + df$IPneg\n",
        "df$TOTb   <- df$ICUb + df$IPb\n",
        "head(df)"
      ],
      "execution_count": 2,
      "outputs": [
        {
          "output_type": "display_data",
          "data": {
            "text/plain": [
              "    state date       ICUpos ICUneg ICUb IPpos IPneg IPb  TOTpos TOTneg TOTb\n",
              "73  AK    2020-07-29 11      32     43   51   1031  1082  62    1063   1125\n",
              "381 AK    2020-08-29  9      37     46   36    826   862  45     863    908\n",
              "393 AK    2020-12-20 20     106    126  106    856   962 126     962   1088\n",
              "409 AK    2020-12-04 33      98    131  161    849  1010 194     947   1141\n",
              "459 AK    2021-01-10 11     107    118   68    810   878  79     917    996\n",
              "681 AK    2020-12-30 11     116    127   71    838   909  82     954   1036"
            ],
            "text/latex": "A data.frame: 6 × 11\n\\begin{tabular}{r|lllllllllll}\n  & state & date & ICUpos & ICUneg & ICUb & IPpos & IPneg & IPb & TOTpos & TOTneg & TOTb\\\\\n  & <chr> & <date> & <int> & <int> & <int> & <int> & <int> & <int> & <int> & <int> & <int>\\\\\n\\hline\n\t73 & AK & 2020-07-29 & 11 &  32 &  43 &  51 & 1031 & 1082 &  62 & 1063 & 1125\\\\\n\t381 & AK & 2020-08-29 &  9 &  37 &  46 &  36 &  826 &  862 &  45 &  863 &  908\\\\\n\t393 & AK & 2020-12-20 & 20 & 106 & 126 & 106 &  856 &  962 & 126 &  962 & 1088\\\\\n\t409 & AK & 2020-12-04 & 33 &  98 & 131 & 161 &  849 & 1010 & 194 &  947 & 1141\\\\\n\t459 & AK & 2021-01-10 & 11 & 107 & 118 &  68 &  810 &  878 &  79 &  917 &  996\\\\\n\t681 & AK & 2020-12-30 & 11 & 116 & 127 &  71 &  838 &  909 &  82 &  954 & 1036\\\\\n\\end{tabular}\n",
            "text/markdown": "\nA data.frame: 6 × 11\n\n| <!--/--> | state &lt;chr&gt; | date &lt;date&gt; | ICUpos &lt;int&gt; | ICUneg &lt;int&gt; | ICUb &lt;int&gt; | IPpos &lt;int&gt; | IPneg &lt;int&gt; | IPb &lt;int&gt; | TOTpos &lt;int&gt; | TOTneg &lt;int&gt; | TOTb &lt;int&gt; |\n|---|---|---|---|---|---|---|---|---|---|---|---|\n| 73 | AK | 2020-07-29 | 11 |  32 |  43 |  51 | 1031 | 1082 |  62 | 1063 | 1125 |\n| 381 | AK | 2020-08-29 |  9 |  37 |  46 |  36 |  826 |  862 |  45 |  863 |  908 |\n| 393 | AK | 2020-12-20 | 20 | 106 | 126 | 106 |  856 |  962 | 126 |  962 | 1088 |\n| 409 | AK | 2020-12-04 | 33 |  98 | 131 | 161 |  849 | 1010 | 194 |  947 | 1141 |\n| 459 | AK | 2021-01-10 | 11 | 107 | 118 |  68 |  810 |  878 |  79 |  917 |  996 |\n| 681 | AK | 2020-12-30 | 11 | 116 | 127 |  71 |  838 |  909 |  82 |  954 | 1036 |\n\n",
            "text/html": [
              "<table class=\"dataframe\">\n",
              "<caption>A data.frame: 6 × 11</caption>\n",
              "<thead>\n",
              "\t<tr><th></th><th scope=col>state</th><th scope=col>date</th><th scope=col>ICUpos</th><th scope=col>ICUneg</th><th scope=col>ICUb</th><th scope=col>IPpos</th><th scope=col>IPneg</th><th scope=col>IPb</th><th scope=col>TOTpos</th><th scope=col>TOTneg</th><th scope=col>TOTb</th></tr>\n",
              "\t<tr><th></th><th scope=col>&lt;chr&gt;</th><th scope=col>&lt;date&gt;</th><th scope=col>&lt;int&gt;</th><th scope=col>&lt;int&gt;</th><th scope=col>&lt;int&gt;</th><th scope=col>&lt;int&gt;</th><th scope=col>&lt;int&gt;</th><th scope=col>&lt;int&gt;</th><th scope=col>&lt;int&gt;</th><th scope=col>&lt;int&gt;</th><th scope=col>&lt;int&gt;</th></tr>\n",
              "</thead>\n",
              "<tbody>\n",
              "\t<tr><th scope=row>73</th><td>AK</td><td>2020-07-29</td><td>11</td><td> 32</td><td> 43</td><td> 51</td><td>1031</td><td>1082</td><td> 62</td><td>1063</td><td>1125</td></tr>\n",
              "\t<tr><th scope=row>381</th><td>AK</td><td>2020-08-29</td><td> 9</td><td> 37</td><td> 46</td><td> 36</td><td> 826</td><td> 862</td><td> 45</td><td> 863</td><td> 908</td></tr>\n",
              "\t<tr><th scope=row>393</th><td>AK</td><td>2020-12-20</td><td>20</td><td>106</td><td>126</td><td>106</td><td> 856</td><td> 962</td><td>126</td><td> 962</td><td>1088</td></tr>\n",
              "\t<tr><th scope=row>409</th><td>AK</td><td>2020-12-04</td><td>33</td><td> 98</td><td>131</td><td>161</td><td> 849</td><td>1010</td><td>194</td><td> 947</td><td>1141</td></tr>\n",
              "\t<tr><th scope=row>459</th><td>AK</td><td>2021-01-10</td><td>11</td><td>107</td><td>118</td><td> 68</td><td> 810</td><td> 878</td><td> 79</td><td> 917</td><td> 996</td></tr>\n",
              "\t<tr><th scope=row>681</th><td>AK</td><td>2020-12-30</td><td>11</td><td>116</td><td>127</td><td> 71</td><td> 838</td><td> 909</td><td> 82</td><td> 954</td><td>1036</td></tr>\n",
              "</tbody>\n",
              "</table>\n"
            ]
          },
          "metadata": {}
        }
      ]
    },
    {
      "cell_type": "markdown",
      "metadata": {
        "id": "_WR7uhWBip2l"
      },
      "source": [
        "Now the data in the last 30 days of delta wave in the US will be averaged state-wise. For example:"
      ]
    },
    {
      "cell_type": "code",
      "metadata": {
        "colab": {
          "base_uri": "https://localhost:8080/",
          "height": 66
        },
        "id": "1hbz-2B-io5s",
        "outputId": "2318780f-fb76-4ad7-a047-3eba4e6f36fd"
      },
      "source": [
        "# Example Alabama:\n",
        "n <- 30 # number of days to average\n",
        "AL <- df[df$state==\"AL\",]\n",
        "AL <- AL[order(as.Date(AL$date,format = \"%d/%m/%Y\")),]\n",
        "row.names(AL) <- 1:nrow(AL)\n",
        "round(colMeans(tail(AL[,c(3,4,5)],n)))\n",
        "round(colMeans(tail(AL[,c(6,7,8)],n)))\n",
        "round(colMeans(tail(AL[,c(9,10,11)],n)))"
      ],
      "execution_count": 3,
      "outputs": [
        {
          "output_type": "display_data",
          "data": {
            "text/plain": [
              "ICUpos ICUneg   ICUb \n",
              "   836    745   1581 "
            ],
            "text/latex": "\\begin{description*}\n\\item[ICUpos] 836\n\\item[ICUneg] 745\n\\item[ICUb] 1581\n\\end{description*}\n",
            "text/markdown": "ICUpos\n:   836ICUneg\n:   745ICUb\n:   1581\n\n",
            "text/html": [
              "<style>\n",
              ".dl-inline {width: auto; margin:0; padding: 0}\n",
              ".dl-inline>dt, .dl-inline>dd {float: none; width: auto; display: inline-block}\n",
              ".dl-inline>dt::after {content: \":\\0020\"; padding-right: .5ex}\n",
              ".dl-inline>dt:not(:first-of-type) {padding-left: .5ex}\n",
              "</style><dl class=dl-inline><dt>ICUpos</dt><dd>836</dd><dt>ICUneg</dt><dd>745</dd><dt>ICUb</dt><dd>1581</dd></dl>\n"
            ]
          },
          "metadata": {}
        },
        {
          "output_type": "display_data",
          "data": {
            "text/plain": [
              "IPpos IPneg   IPb \n",
              " 2873  9233 12106 "
            ],
            "text/latex": "\\begin{description*}\n\\item[IPpos] 2873\n\\item[IPneg] 9233\n\\item[IPb] 12106\n\\end{description*}\n",
            "text/markdown": "IPpos\n:   2873IPneg\n:   9233IPb\n:   12106\n\n",
            "text/html": [
              "<style>\n",
              ".dl-inline {width: auto; margin:0; padding: 0}\n",
              ".dl-inline>dt, .dl-inline>dd {float: none; width: auto; display: inline-block}\n",
              ".dl-inline>dt::after {content: \":\\0020\"; padding-right: .5ex}\n",
              ".dl-inline>dt:not(:first-of-type) {padding-left: .5ex}\n",
              "</style><dl class=dl-inline><dt>IPpos</dt><dd>2873</dd><dt>IPneg</dt><dd>9233</dd><dt>IPb</dt><dd>12106</dd></dl>\n"
            ]
          },
          "metadata": {}
        },
        {
          "output_type": "display_data",
          "data": {
            "text/plain": [
              "TOTpos TOTneg   TOTb \n",
              "  3710   9978  13688 "
            ],
            "text/latex": "\\begin{description*}\n\\item[TOTpos] 3710\n\\item[TOTneg] 9978\n\\item[TOTb] 13688\n\\end{description*}\n",
            "text/markdown": "TOTpos\n:   3710TOTneg\n:   9978TOTb\n:   13688\n\n",
            "text/html": [
              "<style>\n",
              ".dl-inline {width: auto; margin:0; padding: 0}\n",
              ".dl-inline>dt, .dl-inline>dd {float: none; width: auto; display: inline-block}\n",
              ".dl-inline>dt::after {content: \":\\0020\"; padding-right: .5ex}\n",
              ".dl-inline>dt:not(:first-of-type) {padding-left: .5ex}\n",
              "</style><dl class=dl-inline><dt>TOTpos</dt><dd>3710</dd><dt>TOTneg</dt><dd>9978</dd><dt>TOTb</dt><dd>13688</dd></dl>\n"
            ]
          },
          "metadata": {}
        }
      ]
    },
    {
      "cell_type": "markdown",
      "metadata": {
        "id": "pLPs_7ErjH4K"
      },
      "source": [
        "Performing the same averaging for all states:"
      ]
    },
    {
      "cell_type": "code",
      "metadata": {
        "colab": {
          "base_uri": "https://localhost:8080/",
          "height": 280
        },
        "id": "OLF4t9FBjNi2",
        "outputId": "04bee804-4aa5-4b75-d3ca-41671c16fc97"
      },
      "source": [
        "states <- unique(df[,1])\n",
        "m <- matrix(0,length(states),9)\n",
        "\n",
        "for(i in 1:length(states)){\n",
        "  temp <- df[df$state==states[i],]\n",
        "  temp <- temp[order(as.Date(temp$date,format = \"%d/%m/%Y\")),]\n",
        "  m[i,1:9] <- round(colMeans(tail(temp[,3:11],n)))\n",
        "}\n",
        "\n",
        "hosp <- cbind.data.frame(states,m)\n",
        "hosp <- hosp[order(hosp[,'states']), ]\n",
        "names(hosp) <- names(df)[c(1,3:11)]\n",
        "head(hosp)"
      ],
      "execution_count": 4,
      "outputs": [
        {
          "output_type": "display_data",
          "data": {
            "text/plain": [
              "  state ICUpos ICUneg ICUb IPpos IPneg IPb   TOTpos TOTneg TOTb \n",
              "1 AK      35     89    123  152    931  1082   186   1019   1206\n",
              "2 AL     836    745   1581 2873   9233 12106  3710   9978  13688\n",
              "3 AR     457    547   1004 1307   5394  6701  1764   5941   7705\n",
              "4 AS       0      7      7    0     75    75     0     82     82\n",
              "5 AZ     478   1689   2167 1966  10277 12243  2444  11966  14410\n",
              "6 CA    1935   5304   7240 8115  42998 51114 10051  48303  58353"
            ],
            "text/latex": "A data.frame: 6 × 10\n\\begin{tabular}{r|llllllllll}\n  & state & ICUpos & ICUneg & ICUb & IPpos & IPneg & IPb & TOTpos & TOTneg & TOTb\\\\\n  & <chr> & <dbl> & <dbl> & <dbl> & <dbl> & <dbl> & <dbl> & <dbl> & <dbl> & <dbl>\\\\\n\\hline\n\t1 & AK &   35 &   89 &  123 &  152 &   931 &  1082 &   186 &  1019 &  1206\\\\\n\t2 & AL &  836 &  745 & 1581 & 2873 &  9233 & 12106 &  3710 &  9978 & 13688\\\\\n\t3 & AR &  457 &  547 & 1004 & 1307 &  5394 &  6701 &  1764 &  5941 &  7705\\\\\n\t4 & AS &    0 &    7 &    7 &    0 &    75 &    75 &     0 &    82 &    82\\\\\n\t5 & AZ &  478 & 1689 & 2167 & 1966 & 10277 & 12243 &  2444 & 11966 & 14410\\\\\n\t6 & CA & 1935 & 5304 & 7240 & 8115 & 42998 & 51114 & 10051 & 48303 & 58353\\\\\n\\end{tabular}\n",
            "text/markdown": "\nA data.frame: 6 × 10\n\n| <!--/--> | state &lt;chr&gt; | ICUpos &lt;dbl&gt; | ICUneg &lt;dbl&gt; | ICUb &lt;dbl&gt; | IPpos &lt;dbl&gt; | IPneg &lt;dbl&gt; | IPb &lt;dbl&gt; | TOTpos &lt;dbl&gt; | TOTneg &lt;dbl&gt; | TOTb &lt;dbl&gt; |\n|---|---|---|---|---|---|---|---|---|---|---|\n| 1 | AK |   35 |   89 |  123 |  152 |   931 |  1082 |   186 |  1019 |  1206 |\n| 2 | AL |  836 |  745 | 1581 | 2873 |  9233 | 12106 |  3710 |  9978 | 13688 |\n| 3 | AR |  457 |  547 | 1004 | 1307 |  5394 |  6701 |  1764 |  5941 |  7705 |\n| 4 | AS |    0 |    7 |    7 |    0 |    75 |    75 |     0 |    82 |    82 |\n| 5 | AZ |  478 | 1689 | 2167 | 1966 | 10277 | 12243 |  2444 | 11966 | 14410 |\n| 6 | CA | 1935 | 5304 | 7240 | 8115 | 42998 | 51114 | 10051 | 48303 | 58353 |\n\n",
            "text/html": [
              "<table class=\"dataframe\">\n",
              "<caption>A data.frame: 6 × 10</caption>\n",
              "<thead>\n",
              "\t<tr><th></th><th scope=col>state</th><th scope=col>ICUpos</th><th scope=col>ICUneg</th><th scope=col>ICUb</th><th scope=col>IPpos</th><th scope=col>IPneg</th><th scope=col>IPb</th><th scope=col>TOTpos</th><th scope=col>TOTneg</th><th scope=col>TOTb</th></tr>\n",
              "\t<tr><th></th><th scope=col>&lt;chr&gt;</th><th scope=col>&lt;dbl&gt;</th><th scope=col>&lt;dbl&gt;</th><th scope=col>&lt;dbl&gt;</th><th scope=col>&lt;dbl&gt;</th><th scope=col>&lt;dbl&gt;</th><th scope=col>&lt;dbl&gt;</th><th scope=col>&lt;dbl&gt;</th><th scope=col>&lt;dbl&gt;</th><th scope=col>&lt;dbl&gt;</th></tr>\n",
              "</thead>\n",
              "<tbody>\n",
              "\t<tr><th scope=row>1</th><td>AK</td><td>  35</td><td>  89</td><td> 123</td><td> 152</td><td>  931</td><td> 1082</td><td>  186</td><td> 1019</td><td> 1206</td></tr>\n",
              "\t<tr><th scope=row>2</th><td>AL</td><td> 836</td><td> 745</td><td>1581</td><td>2873</td><td> 9233</td><td>12106</td><td> 3710</td><td> 9978</td><td>13688</td></tr>\n",
              "\t<tr><th scope=row>3</th><td>AR</td><td> 457</td><td> 547</td><td>1004</td><td>1307</td><td> 5394</td><td> 6701</td><td> 1764</td><td> 5941</td><td> 7705</td></tr>\n",
              "\t<tr><th scope=row>4</th><td>AS</td><td>   0</td><td>   7</td><td>   7</td><td>   0</td><td>   75</td><td>   75</td><td>    0</td><td>   82</td><td>   82</td></tr>\n",
              "\t<tr><th scope=row>5</th><td>AZ</td><td> 478</td><td>1689</td><td>2167</td><td>1966</td><td>10277</td><td>12243</td><td> 2444</td><td>11966</td><td>14410</td></tr>\n",
              "\t<tr><th scope=row>6</th><td>CA</td><td>1935</td><td>5304</td><td>7240</td><td>8115</td><td>42998</td><td>51114</td><td>10051</td><td>48303</td><td>58353</td></tr>\n",
              "</tbody>\n",
              "</table>\n"
            ]
          },
          "metadata": {}
        }
      ]
    },
    {
      "cell_type": "markdown",
      "metadata": {
        "id": "o02rV5yhkC8O"
      },
      "source": [
        "Getting the vaccination data per state and tidying up the dataset:"
      ]
    },
    {
      "cell_type": "code",
      "metadata": {
        "colab": {
          "base_uri": "https://localhost:8080/",
          "height": 280
        },
        "id": "CKDrLa2UjnUp",
        "outputId": "5219b4a8-729c-4b69-cfff-148c4d274f17"
      },
      "source": [
        "y = url(\"https://raw.githubusercontent.com/RInterested/DATASETS/gh-pages/covid19_vaccinations_in_the_united_states.csv\")\n",
        "vaccines <- read.csv(y)\n",
        "vac <- vaccines[,c(1,3)]\n",
        "# 3: Doses Delivered per 100K\n",
        "names(vac) <- c('state','jabsx100k')\n",
        "\n",
        "s = url(\"https://raw.githubusercontent.com/RInterested/DATASETS/gh-pages/states.csv\")\n",
        "abbr <- read.csv(s)\n",
        "\n",
        "vac <- vac[vac[,1] %in% abbr[,1],]\n",
        "\n",
        "for(i in 1:nrow(vac)){\n",
        "    vac[i,1] <- abbr[which(abbr[,1]==vac[i,1]),2]\n",
        "}\n",
        "\n",
        "vac[,2] <- as.numeric(vac[,2])\n",
        "\n",
        "d <- merge(hosp,vac, by=\"state\")\n",
        "head(d)"
      ],
      "execution_count": 6,
      "outputs": [
        {
          "output_type": "display_data",
          "data": {
            "text/plain": [
              "  state ICUpos ICUneg ICUb IPpos IPneg IPb   TOTpos TOTneg TOTb  jabsx100k\n",
              "1 AK      35     89    123  152    931  1082   186   1019   1206 135083   \n",
              "2 AR     457    547   1004 1307   5394  6701  1764   5941   7705 127641   \n",
              "3 AS       0      7      7    0     75    75     0     82     82 111404   \n",
              "4 AZ     478   1689   2167 1966  10277 12243  2444  11966  14410 131204   \n",
              "5 CA    1935   5304   7240 8115  42998 51114 10051  48303  58353 142990   \n",
              "6 CO     273   1079   1353  777   7224  8002  1051   8304   9354 137594   "
            ],
            "text/latex": "A data.frame: 6 × 11\n\\begin{tabular}{r|lllllllllll}\n  & state & ICUpos & ICUneg & ICUb & IPpos & IPneg & IPb & TOTpos & TOTneg & TOTb & jabsx100k\\\\\n  & <chr> & <dbl> & <dbl> & <dbl> & <dbl> & <dbl> & <dbl> & <dbl> & <dbl> & <dbl> & <dbl>\\\\\n\\hline\n\t1 & AK &   35 &   89 &  123 &  152 &   931 &  1082 &   186 &  1019 &  1206 & 135083\\\\\n\t2 & AR &  457 &  547 & 1004 & 1307 &  5394 &  6701 &  1764 &  5941 &  7705 & 127641\\\\\n\t3 & AS &    0 &    7 &    7 &    0 &    75 &    75 &     0 &    82 &    82 & 111404\\\\\n\t4 & AZ &  478 & 1689 & 2167 & 1966 & 10277 & 12243 &  2444 & 11966 & 14410 & 131204\\\\\n\t5 & CA & 1935 & 5304 & 7240 & 8115 & 42998 & 51114 & 10051 & 48303 & 58353 & 142990\\\\\n\t6 & CO &  273 & 1079 & 1353 &  777 &  7224 &  8002 &  1051 &  8304 &  9354 & 137594\\\\\n\\end{tabular}\n",
            "text/markdown": "\nA data.frame: 6 × 11\n\n| <!--/--> | state &lt;chr&gt; | ICUpos &lt;dbl&gt; | ICUneg &lt;dbl&gt; | ICUb &lt;dbl&gt; | IPpos &lt;dbl&gt; | IPneg &lt;dbl&gt; | IPb &lt;dbl&gt; | TOTpos &lt;dbl&gt; | TOTneg &lt;dbl&gt; | TOTb &lt;dbl&gt; | jabsx100k &lt;dbl&gt; |\n|---|---|---|---|---|---|---|---|---|---|---|---|\n| 1 | AK |   35 |   89 |  123 |  152 |   931 |  1082 |   186 |  1019 |  1206 | 135083 |\n| 2 | AR |  457 |  547 | 1004 | 1307 |  5394 |  6701 |  1764 |  5941 |  7705 | 127641 |\n| 3 | AS |    0 |    7 |    7 |    0 |    75 |    75 |     0 |    82 |    82 | 111404 |\n| 4 | AZ |  478 | 1689 | 2167 | 1966 | 10277 | 12243 |  2444 | 11966 | 14410 | 131204 |\n| 5 | CA | 1935 | 5304 | 7240 | 8115 | 42998 | 51114 | 10051 | 48303 | 58353 | 142990 |\n| 6 | CO |  273 | 1079 | 1353 |  777 |  7224 |  8002 |  1051 |  8304 |  9354 | 137594 |\n\n",
            "text/html": [
              "<table class=\"dataframe\">\n",
              "<caption>A data.frame: 6 × 11</caption>\n",
              "<thead>\n",
              "\t<tr><th></th><th scope=col>state</th><th scope=col>ICUpos</th><th scope=col>ICUneg</th><th scope=col>ICUb</th><th scope=col>IPpos</th><th scope=col>IPneg</th><th scope=col>IPb</th><th scope=col>TOTpos</th><th scope=col>TOTneg</th><th scope=col>TOTb</th><th scope=col>jabsx100k</th></tr>\n",
              "\t<tr><th></th><th scope=col>&lt;chr&gt;</th><th scope=col>&lt;dbl&gt;</th><th scope=col>&lt;dbl&gt;</th><th scope=col>&lt;dbl&gt;</th><th scope=col>&lt;dbl&gt;</th><th scope=col>&lt;dbl&gt;</th><th scope=col>&lt;dbl&gt;</th><th scope=col>&lt;dbl&gt;</th><th scope=col>&lt;dbl&gt;</th><th scope=col>&lt;dbl&gt;</th><th scope=col>&lt;dbl&gt;</th></tr>\n",
              "</thead>\n",
              "<tbody>\n",
              "\t<tr><th scope=row>1</th><td>AK</td><td>  35</td><td>  89</td><td> 123</td><td> 152</td><td>  931</td><td> 1082</td><td>  186</td><td> 1019</td><td> 1206</td><td>135083</td></tr>\n",
              "\t<tr><th scope=row>2</th><td>AR</td><td> 457</td><td> 547</td><td>1004</td><td>1307</td><td> 5394</td><td> 6701</td><td> 1764</td><td> 5941</td><td> 7705</td><td>127641</td></tr>\n",
              "\t<tr><th scope=row>3</th><td>AS</td><td>   0</td><td>   7</td><td>   7</td><td>   0</td><td>   75</td><td>   75</td><td>    0</td><td>   82</td><td>   82</td><td>111404</td></tr>\n",
              "\t<tr><th scope=row>4</th><td>AZ</td><td> 478</td><td>1689</td><td>2167</td><td>1966</td><td>10277</td><td>12243</td><td> 2444</td><td>11966</td><td>14410</td><td>131204</td></tr>\n",
              "\t<tr><th scope=row>5</th><td>CA</td><td>1935</td><td>5304</td><td>7240</td><td>8115</td><td>42998</td><td>51114</td><td>10051</td><td>48303</td><td>58353</td><td>142990</td></tr>\n",
              "\t<tr><th scope=row>6</th><td>CO</td><td> 273</td><td>1079</td><td>1353</td><td> 777</td><td> 7224</td><td> 8002</td><td> 1051</td><td> 8304</td><td> 9354</td><td>137594</td></tr>\n",
              "</tbody>\n",
              "</table>\n"
            ]
          },
          "metadata": {}
        }
      ]
    },
    {
      "cell_type": "markdown",
      "metadata": {
        "id": "tA3dAJBwks_5"
      },
      "source": [
        "Checking whether the logistic regression of covid cases in the ICU and in the hospital (total ICU and IP) regressed over the vaccination status of the population in different states is significant:"
      ]
    },
    {
      "cell_type": "code",
      "metadata": {
        "colab": {
          "base_uri": "https://localhost:8080/",
          "height": 425
        },
        "id": "7zEszHNMksV4",
        "outputId": "7652bccb-02a0-48c2-ff12-fda9443b24f8"
      },
      "source": [
        "fit <- glm(cbind(d$ICUpos,d$ICUneg) ~ scale(d$jabsx100k), \n",
        "           family='binomial')\n",
        "\n",
        "summary(fit)"
      ],
      "execution_count": 7,
      "outputs": [
        {
          "output_type": "display_data",
          "data": {
            "text/plain": [
              "\n",
              "Call:\n",
              "glm(formula = cbind(d$ICUpos, d$ICUneg) ~ scale(d$jabsx100k), \n",
              "    family = \"binomial\")\n",
              "\n",
              "Deviance Residuals: \n",
              "    Min       1Q   Median       3Q      Max  \n",
              "-27.566   -7.525   -2.758    2.623   39.715  \n",
              "\n",
              "Coefficients:\n",
              "                    Estimate Std. Error z value Pr(>|z|)    \n",
              "(Intercept)        -0.871522   0.007831 -111.30   <2e-16 ***\n",
              "scale(d$jabsx100k) -0.193593   0.010832  -17.87   <2e-16 ***\n",
              "---\n",
              "Signif. codes:  0 ‘***’ 0.001 ‘**’ 0.01 ‘*’ 0.05 ‘.’ 0.1 ‘ ’ 1\n",
              "\n",
              "(Dispersion parameter for binomial family taken to be 1)\n",
              "\n",
              "    Null deviance: 8346.2  on 51  degrees of freedom\n",
              "Residual deviance: 8024.5  on 50  degrees of freedom\n",
              "AIC: 8375.2\n",
              "\n",
              "Number of Fisher Scoring iterations: 4\n"
            ]
          },
          "metadata": {}
        }
      ]
    },
    {
      "cell_type": "markdown",
      "metadata": {
        "id": "yjeSkDMOrFpS"
      },
      "source": [
        "The scaling and centering is meant to estimate the effect size. From [here](https://www.theanalysisfactor.com/effect-size-statistics-logistic-regression/):\n",
        "\n",
        "*For example, let’s say you’re doing a logistic regression for a ecology study on whether or not a wetland in a certain area has been infected with a specific invasive plant.  Predictors include water temperature in degrees Celsius, altitude, and whether the wetland is a fen or a marsh.*\n",
        "\n",
        "*If the odds ratio for water temperature is 1.12, that means that for each one-degree Celsius increase in water temperature, the odds of the wetland having the invasive plant species is 1.12 times as big, after controlling for the other predictors.*\n",
        "\n",
        "*That odds ratio is an unstandardized effect size statistic.  It tells you the direction and the strength of the relationship between water temperature and the odds that the plant is present.*\n",
        "\n",
        "*It’s unstandardized because it’s based on the units of temperature.**\n",
        "\n",
        "I realize no ecologist would do so, but if the water were measured in degrees Fahrenheit, that odds ratio would have a different value.  The direction and the strength of the relationship would be the same, but the statistic would be evaluated on a different scale* "
      ]
    },
    {
      "cell_type": "code",
      "metadata": {
        "colab": {
          "base_uri": "https://localhost:8080/",
          "height": 162
        },
        "id": "xjtBigRJrTuX",
        "outputId": "281e0559-b8a6-45b9-b5e8-046103db9aed"
      },
      "source": [
        "exp(cbind(OR = coef(fit), confint(fit)))"
      ],
      "execution_count": 8,
      "outputs": [
        {
          "output_type": "stream",
          "name": "stderr",
          "text": [
            "Waiting for profiling to be done...\n",
            "\n"
          ]
        },
        {
          "output_type": "display_data",
          "data": {
            "text/plain": [
              "                   OR        2.5 %     97.5 %   \n",
              "(Intercept)        0.4183142 0.4119365 0.4247772\n",
              "scale(d$jabsx100k) 0.8239930 0.8066747 0.8416660"
            ],
            "text/latex": "A matrix: 2 × 3 of type dbl\n\\begin{tabular}{r|lll}\n  & OR & 2.5 \\% & 97.5 \\%\\\\\n\\hline\n\t(Intercept) & 0.4183142 & 0.4119365 & 0.4247772\\\\\n\tscale(d\\$jabsx100k) & 0.8239930 & 0.8066747 & 0.8416660\\\\\n\\end{tabular}\n",
            "text/markdown": "\nA matrix: 2 × 3 of type dbl\n\n| <!--/--> | OR | 2.5 % | 97.5 % |\n|---|---|---|---|\n| (Intercept) | 0.4183142 | 0.4119365 | 0.4247772 |\n| scale(d$jabsx100k) | 0.8239930 | 0.8066747 | 0.8416660 |\n\n",
            "text/html": [
              "<table class=\"dataframe\">\n",
              "<caption>A matrix: 2 × 3 of type dbl</caption>\n",
              "<thead>\n",
              "\t<tr><th></th><th scope=col>OR</th><th scope=col>2.5 %</th><th scope=col>97.5 %</th></tr>\n",
              "</thead>\n",
              "<tbody>\n",
              "\t<tr><th scope=row>(Intercept)</th><td>0.4183142</td><td>0.4119365</td><td>0.4247772</td></tr>\n",
              "\t<tr><th scope=row>scale(d$jabsx100k)</th><td>0.8239930</td><td>0.8066747</td><td>0.8416660</td></tr>\n",
              "</tbody>\n",
              "</table>\n"
            ]
          },
          "metadata": {}
        }
      ]
    },
    {
      "cell_type": "markdown",
      "metadata": {
        "id": "LoCmkn1zr9Yv"
      },
      "source": [
        "Intercept: The odds of being a covid positive patient in the ICU if zero vaccinations is 40%.\n",
        "\n",
        "Slope: A $1$ SD increase in the vaccination status of the state, decreases 20% the odds of being in the ICU."
      ]
    },
    {
      "cell_type": "markdown",
      "metadata": {
        "id": "wXQ0UBzWixK8"
      },
      "source": [
        "Now for inpatients and ICU combined (i.e. hospitalizations):"
      ]
    },
    {
      "cell_type": "code",
      "metadata": {
        "colab": {
          "base_uri": "https://localhost:8080/",
          "height": 571
        },
        "id": "Jtrrykyqi45f",
        "outputId": "8f74370a-21a8-4e53-a06e-e0adfcbe03da"
      },
      "source": [
        "fit2 <- glm(cbind(d$TOTpos,d$TOTneg) ~ scale(d$jabsx100k), family='binomial')\n",
        "summary(fit2)\n",
        "exp(cbind(OR = coef(fit2), confint(fit2)))"
      ],
      "execution_count": 11,
      "outputs": [
        {
          "output_type": "display_data",
          "data": {
            "text/plain": [
              "\n",
              "Call:\n",
              "glm(formula = cbind(d$TOTpos, d$TOTneg) ~ scale(d$jabsx100k), \n",
              "    family = \"binomial\")\n",
              "\n",
              "Deviance Residuals: \n",
              "    Min       1Q   Median       3Q      Max  \n",
              "-50.845  -16.359   -8.674    2.583   94.627  \n",
              "\n",
              "Coefficients:\n",
              "                    Estimate Std. Error z value Pr(>|z|)    \n",
              "(Intercept)        -1.489019   0.003298 -451.45   <2e-16 ***\n",
              "scale(d$jabsx100k) -0.153360   0.004552  -33.69   <2e-16 ***\n",
              "---\n",
              "Signif. codes:  0 ‘***’ 0.001 ‘**’ 0.01 ‘*’ 0.05 ‘.’ 0.1 ‘ ’ 1\n",
              "\n",
              "(Dispersion parameter for binomial family taken to be 1)\n",
              "\n",
              "    Null deviance: 35084  on 51  degrees of freedom\n",
              "Residual deviance: 33944  on 50  degrees of freedom\n",
              "AIC: 34382\n",
              "\n",
              "Number of Fisher Scoring iterations: 4\n"
            ]
          },
          "metadata": {}
        },
        {
          "output_type": "stream",
          "name": "stderr",
          "text": [
            "Waiting for profiling to be done...\n",
            "\n"
          ]
        },
        {
          "output_type": "display_data",
          "data": {
            "text/plain": [
              "                   OR        2.5 %     97.5 %   \n",
              "(Intercept)        0.2255940 0.2241393 0.2270560\n",
              "scale(d$jabsx100k) 0.8578211 0.8502000 0.8655079"
            ],
            "text/latex": "A matrix: 2 × 3 of type dbl\n\\begin{tabular}{r|lll}\n  & OR & 2.5 \\% & 97.5 \\%\\\\\n\\hline\n\t(Intercept) & 0.2255940 & 0.2241393 & 0.2270560\\\\\n\tscale(d\\$jabsx100k) & 0.8578211 & 0.8502000 & 0.8655079\\\\\n\\end{tabular}\n",
            "text/markdown": "\nA matrix: 2 × 3 of type dbl\n\n| <!--/--> | OR | 2.5 % | 97.5 % |\n|---|---|---|---|\n| (Intercept) | 0.2255940 | 0.2241393 | 0.2270560 |\n| scale(d$jabsx100k) | 0.8578211 | 0.8502000 | 0.8655079 |\n\n",
            "text/html": [
              "<table class=\"dataframe\">\n",
              "<caption>A matrix: 2 × 3 of type dbl</caption>\n",
              "<thead>\n",
              "\t<tr><th></th><th scope=col>OR</th><th scope=col>2.5 %</th><th scope=col>97.5 %</th></tr>\n",
              "</thead>\n",
              "<tbody>\n",
              "\t<tr><th scope=row>(Intercept)</th><td>0.2255940</td><td>0.2241393</td><td>0.2270560</td></tr>\n",
              "\t<tr><th scope=row>scale(d$jabsx100k)</th><td>0.8578211</td><td>0.8502000</td><td>0.8655079</td></tr>\n",
              "</tbody>\n",
              "</table>\n"
            ]
          },
          "metadata": {}
        }
      ]
    },
    {
      "cell_type": "markdown",
      "metadata": {
        "id": "T5wxuEyxjE0M"
      },
      "source": [
        "The odds of being a covid positive patient admitted to a hospital is 80% without any vaccines.\n",
        "\n",
        "The odds of being a covid positive patient admitted to the hospital is decreased $15\\%$ as the vaccination of the state increases by $1$ SD."
      ]
    }
  ]
}